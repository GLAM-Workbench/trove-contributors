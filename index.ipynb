{
 "cells": [
  {
   "cell_type": "markdown",
   "id": "88f2bd03",
   "metadata": {},
   "source": [
    "# Trove contributors\n",
    "\n",
    "Current version: [v1.0.0](https://github.com/GLAM-Workbench/trove-contributors/releases/tag/v1.0.0)\n",
    "\n",
    "Examples of exploring the different data sources that are aggregated into Trove from institutional contributors. For more information see the [Trove contributors](https://glam-workbench.net/trove-contributors/) section of the GLAM Workbench.\n",
    "\n",
    "## Notebook topics\n",
    "\n",
    "* [Create a flat list of organisations contributing metadata to Trove](get_contributors.ipynb) – converts the nested data available from the `/contributor` endpoint into a single flat list of contributors\n",
    "* [Get the number of records from each contributor by zone and format](get_contributors_totals_zone_format.ipynb) – gets the number of records contributed by each organisation, aggregated by zone and format\n",
    "\n",
    "## Data\n",
    "\n",
    "See [this repository](https://github.com/wragge/trove-contributor-totals) for weekly harvests using code from the above notebooks.\n",
    "\n",
    "See the [GLAM Workbench for more details](https://glam-workbench.github.io/trove-contributors/).\n"
   ]
  },
  {
   "cell_type": "markdown",
   "id": "1110a375",
   "metadata": {},
   "source": [
    "## Cite as\n",
    "\n",
    "See the GLAM Workbench or [Zenodo](https://doi.org/10.5281/zenodo.3521724) for up-to-date citation details.\n",
    "\n",
    "----\n",
    "\n",
    "This repository is part of the [GLAM Workbench](https://glam-workbench.github.io/).  \n"
   ]
  }
 ],
 "metadata": {
  "jupytext": {
   "cell_metadata_filter": "-all"
  },
  "kernelspec": {
   "display_name": "Python 3 (ipykernel)",
   "language": "python",
   "name": "python3"
  }
 },
 "nbformat": 4,
 "nbformat_minor": 5
}
